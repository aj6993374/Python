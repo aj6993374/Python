{
 "cells": [
  {
   "cell_type": "markdown",
   "metadata": {},
   "source": [
    "Aashik Kumar Jha \n"
   ]
  },
  {
   "cell_type": "markdown",
   "metadata": {},
   "source": [
    "I have experimented with a variety of syntax elements in my Python coding practice, including the use of print statements and the computation of remainders through addition and subtraction. In order to make decisions in my programs, I have put in place a control flow that uses if, elif, and else statements. I've also used while and for loops to carry out repetitive tasks. Additionally, I've worked a lot with list functions like count, which returns the total number of times a given item appears, pop, which eliminates the last element, and append, which adds a new item to the end of the list and I also looked into the following other techniques: insert, which adds an item at a specific index; extend, which adds more than one item to a list; copy, which duplicates the list; and clear, which eliminates every item to the list. My understanding of flow control and list operations in Python has improved as a result of my practice, which has taught me how to loop through lists and join all list items into a single string.\n"
   ]
  },
  {
   "cell_type": "markdown",
   "metadata": {},
   "source": [
    "My First Programing \n"
   ]
  },
  {
   "cell_type": "code",
   "execution_count": 3,
   "metadata": {},
   "outputs": [
    {
     "name": "stdout",
     "output_type": "stream",
     "text": [
      "hello world\n",
      "5 10\n"
     ]
    }
   ],
   "source": [
    "hello=\"hello world\"\n",
    "print(hello)\n",
    "a=5\n",
    "b=10\n",
    "print(a,b)"
   ]
  },
  {
   "cell_type": "code",
   "execution_count": 4,
   "metadata": {},
   "outputs": [
    {
     "name": "stdout",
     "output_type": "stream",
     "text": [
      "5\n",
      "65536\n"
     ]
    }
   ],
   "source": [
    "a=5\n",
    "b=10\n",
    "rem=a%b\n",
    "print(rem)\n",
    "power=2**16\n",
    "print(power)"
   ]
  },
  {
   "cell_type": "code",
   "execution_count": 1,
   "metadata": {},
   "outputs": [
    {
     "name": "stdout",
     "output_type": "stream",
     "text": [
      "16\n",
      "Aashik Kumar Jha\n"
     ]
    }
   ],
   "source": [
    "name='Aashik Kumar Jha'\n",
    "#length of the string\n",
    "total_no_of_chars=len(name)\n",
    "print(total_no_of_chars)\n",
    "#sub-string\n",
    "\n",
    "first_name= name[0:6]\n",
    "middle_name=name[7:12]\n",
    "last_name=name[13:16]\n",
    "\n",
    "print(first_name,middle_name,last_name)\n"
   ]
  },
  {
   "cell_type": "markdown",
   "metadata": {},
   "source": [
    "Control flow statement \n",
    "\n",
    "#Conditionalstatement \n",
    "if \n",
    "elif\n",
    "else"
   ]
  },
  {
   "cell_type": "code",
   "execution_count": 6,
   "metadata": {},
   "outputs": [
    {
     "name": "stdout",
     "output_type": "stream",
     "text": [
      "I have to wakeup at 5 AM\n",
      "I have to go to college\n",
      "its wednesday\n"
     ]
    }
   ],
   "source": [
    "day=4\n",
    "if day==4:\n",
    "    print(\"I have to wakeup at 5 AM\")\n",
    "    print(\"I have to go to college\")\n",
    "    print(\"its wednesday\")\n",
    "elif day==5:\n",
    "    print (\"its thursday\")\n",
    "else:\n",
    "    print(\"Weekend\")\n",
    "    "
   ]
  },
  {
   "cell_type": "markdown",
   "metadata": {},
   "source": [
    "Printing Time"
   ]
  },
  {
   "cell_type": "code",
   "execution_count": 7,
   "metadata": {},
   "outputs": [
    {
     "name": "stdout",
     "output_type": "stream",
     "text": [
      "its English class\n"
     ]
    }
   ],
   "source": [
    "time=int(input(\"Enter time\"))\n",
    "#10=> 'Math'\n",
    "#12=> English \n",
    "#14=>Holiday \n",
    "\n",
    "if time >=10 and time<12:\n",
    "    print(\"its math class\")\n",
    "elif time>=10 and time<14:\n",
    "    print(\"its English class\")\n",
    "else:\n",
    "    print(\"holiday\")\n",
    "    "
   ]
  },
  {
   "cell_type": "markdown",
   "metadata": {},
   "source": [
    "While Loop \n"
   ]
  },
  {
   "cell_type": "code",
   "execution_count": 8,
   "metadata": {},
   "outputs": [
    {
     "name": "stdout",
     "output_type": "stream",
     "text": [
      "Hello1\n",
      "Hello2\n",
      "Hello3\n",
      "Hello4\n",
      "Hello5\n",
      "Hello6\n",
      "Hello7\n",
      "Hello8\n",
      "Hello9\n",
      "Hello10\n"
     ]
    }
   ],
   "source": [
    "from time import sleep\n",
    "counter=1\n",
    "while counter<=10:\n",
    "    print(f\"Hello{counter}\")\n",
    "    counter +=1\n",
    "    sleep (1)"
   ]
  },
  {
   "cell_type": "markdown",
   "metadata": {},
   "source": []
  },
  {
   "cell_type": "markdown",
   "metadata": {},
   "source": [
    "another Method for While loop "
   ]
  },
  {
   "cell_type": "code",
   "execution_count": 9,
   "metadata": {},
   "outputs": [
    {
     "name": "stdout",
     "output_type": "stream",
     "text": [
      "Hello1\n",
      "Hello2\n",
      "Hello3\n",
      "Hello4\n",
      "Hello5\n",
      "Hello6\n",
      "Hello7\n",
      "Hello8\n",
      "Hello9\n",
      "Hello10\n"
     ]
    }
   ],
   "source": [
    "from time import sleep\n",
    "counter=1\n",
    "while counter<=10:\n",
    "    print(f\"Hello{counter}\")\n",
    "    counter +=1\n",
    "    sleep (1)"
   ]
  },
  {
   "cell_type": "markdown",
   "metadata": {},
   "source": [
    "Find the sum of first n=100 natural number using while loop"
   ]
  },
  {
   "cell_type": "code",
   "execution_count": 6,
   "metadata": {},
   "outputs": [
    {
     "name": "stdout",
     "output_type": "stream",
     "text": [
      "1\n",
      "3\n",
      "6\n",
      "10\n",
      "15\n",
      "21\n",
      "28\n",
      "36\n",
      "45\n",
      "55\n",
      "66\n",
      "78\n",
      "91\n",
      "105\n",
      "120\n",
      "136\n",
      "153\n",
      "171\n",
      "190\n",
      "210\n",
      "231\n",
      "253\n",
      "276\n",
      "300\n",
      "325\n",
      "351\n",
      "378\n",
      "406\n",
      "435\n",
      "465\n",
      "496\n",
      "528\n",
      "561\n",
      "595\n",
      "630\n",
      "666\n",
      "703\n",
      "741\n",
      "780\n",
      "820\n",
      "861\n",
      "903\n",
      "946\n",
      "990\n",
      "1035\n",
      "1081\n",
      "1128\n",
      "1176\n",
      "1225\n",
      "1275\n",
      "1326\n",
      "1378\n",
      "1431\n",
      "1485\n",
      "1540\n",
      "1596\n",
      "1653\n",
      "1711\n",
      "1770\n",
      "1830\n",
      "1891\n",
      "1953\n",
      "2016\n",
      "2080\n",
      "2145\n",
      "2211\n",
      "2278\n",
      "2346\n",
      "2415\n",
      "2485\n",
      "2556\n",
      "2628\n",
      "2701\n",
      "2775\n",
      "2850\n",
      "2926\n",
      "3003\n",
      "3081\n",
      "3160\n",
      "3240\n",
      "3321\n",
      "3403\n",
      "3486\n",
      "3570\n",
      "3655\n",
      "3741\n",
      "3828\n",
      "3916\n",
      "4005\n",
      "4095\n",
      "4186\n",
      "4278\n",
      "4371\n",
      "4465\n",
      "4560\n",
      "4656\n",
      "4753\n",
      "4851\n",
      "4950\n",
      "5050\n"
     ]
    }
   ],
   "source": [
    "i=1\n",
    "n=100\n",
    "sum=0\n",
    "while i<= n:\n",
    "    sum +=i\n",
    "    i +=1\n",
    "    print (sum)"
   ]
  },
  {
   "cell_type": "markdown",
   "metadata": {},
   "source": [
    "Find the sum of first n even number, n=100 natural number using while loop"
   ]
  },
  {
   "cell_type": "code",
   "execution_count": 10,
   "metadata": {},
   "outputs": [
    {
     "name": "stdout",
     "output_type": "stream",
     "text": [
      "2550\n",
      "2500\n"
     ]
    }
   ],
   "source": [
    "\n",
    "n=100\n",
    "i=1\n",
    "sum_of_even_number=0\n",
    "sum_of_odd_number=0\n",
    "while i<=n:\n",
    "    if i%2==0:\n",
    "         sum_of_even_number+=i\n",
    "         i+=1\n",
    "    else:\n",
    "        sum_of_odd_number+=i\n",
    "        i+=1\n",
    "print (sum_of_even_number)\n",
    "print(sum_of_odd_number)"
   ]
  },
  {
   "cell_type": "markdown",
   "metadata": {},
   "source": [
    "Composite Data Type \n"
   ]
  },
  {
   "cell_type": "code",
   "execution_count": 2,
   "metadata": {},
   "outputs": [
    {
     "name": "stdout",
     "output_type": "stream",
     "text": [
      "1\n",
      "6\n",
      "5\n"
     ]
    }
   ],
   "source": [
    "numbers = [1,2,3,4,5,5]\n",
    "students = [\"ram\", \"hari\"]\n",
    "# access the elements from the list\n",
    "first_number = numbers[0]\n",
    "print (first_number)\n",
    "total_numbers=len(numbers)\n",
    "print (total_numbers)\n",
    "# last element\n",
    "last_element = numbers[len(numbers)-1]\n",
    "print (last_element)"
   ]
  },
  {
   "cell_type": "markdown",
   "metadata": {},
   "source": [
    "#list methods \n",
    "#append (appends new item at the end)\n",
    "#pop( remove last element)\n",
    "#count(return total number of appends)\n",
    "#insert(insert item at the particular index)\n",
    "#extend\n",
    "#copy\n",
    "#clears"
   ]
  },
  {
   "cell_type": "code",
   "execution_count": 12,
   "metadata": {},
   "outputs": [
    {
     "name": "stdout",
     "output_type": "stream",
     "text": [
      "[1, 2, 3, 4, 5, 6]\n",
      "[1, 2, 3, 4, 5, 6, 8]\n",
      "[1, 2, 3, 4, 5, 6]\n",
      "[1, 2, 3, 4, 6]\n",
      "[1, 2, 3, 4, 3, 6]\n",
      "2\n",
      "[1, 2, 3, 4]\n",
      "[]\n",
      "[1, 2, 3]\n",
      "6 5\n",
      "['ram', 'hari']\n",
      "ram exits in a\n"
     ]
    }
   ],
   "source": [
    "# Initialize a list\n",
    "num = [1, 2, 3, 4, 5, 6]\n",
    "print(num)\n",
    "\n",
    "# Append a new item\n",
    "num.append(8)\n",
    "print(num)\n",
    "\n",
    "# Pop removes the last element\n",
    "num.pop()\n",
    "print(num)\n",
    "\n",
    "# Remove a specific item\n",
    "num.remove(5)\n",
    "print(num)\n",
    "\n",
    "# Count total occurrences of 3\n",
    "num.insert(4, 3)  # Insert 3 at index 4\n",
    "print(num)\n",
    "print(num.count(3))  # Count how many times 3 appears in the list\n",
    "\n",
    "# Extend num_1 with num_2\n",
    "num_1 = [1, 2]\n",
    "num_2 = [3, 4]\n",
    "num_1.extend(num_2)\n",
    "print(num_1)\n",
    "\n",
    "# Clear num_1\n",
    "num_1.clear()\n",
    "print(num_1)\n",
    "\n",
    "# Copy the list\n",
    "a = [1, 2, 3]\n",
    "b = a.copy()  # Use parentheses to call the copy method\n",
    "print(b)\n",
    "\n",
    "\n",
    "#references by value \n",
    "a=5\n",
    "b=a\n",
    "a=a+1\n",
    "print(a,b)\n",
    "\n",
    "#references by location \n",
    "a=['ram','hari']\n",
    "b=a.copy()\n",
    "a.append('Gopal')\n",
    "print(b)\n",
    "if 'ram' in a: #value check in list if it is here or not \n",
    "    print('ram exits in a')"
   ]
  },
  {
   "cell_type": "markdown",
   "metadata": {},
   "source": [
    "loop though list "
   ]
  },
  {
   "cell_type": "code",
   "execution_count": 13,
   "metadata": {},
   "outputs": [
    {
     "name": "stdout",
     "output_type": "stream",
     "text": [
      "1\n",
      "3\n",
      "6\n",
      "10\n",
      "15\n",
      "21\n"
     ]
    }
   ],
   "source": [
    "# find the sum of all items of given list \n",
    "num=[1,2,3,4,5,6]\n",
    "\n",
    "total_items=len(num)\n",
    "index=0\n",
    "sum=0\n",
    "\n",
    "while index<total_items:\n",
    "    sum+=num[index]\n",
    "    index +=1\n",
    "    print (sum)\n",
    "    "
   ]
  },
  {
   "cell_type": "markdown",
   "metadata": {},
   "source": [
    "#find the max value from given list\n",
    "num=[-10.3,9,-50,100,1009]"
   ]
  },
  {
   "cell_type": "code",
   "execution_count": 18,
   "metadata": {},
   "outputs": [
    {
     "name": "stdout",
     "output_type": "stream",
     "text": [
      "1009\n",
      "-50\n"
     ]
    }
   ],
   "source": [
    "num = [-10.3, 9, -50, 100, 1009]\n",
    "\n",
    "# Initialize the max value with the first element\n",
    "max_value = num[0]\n",
    "index = 0\n",
    "\n",
    "# Use a while loop to iterate through the list\n",
    "while index < len(num):\n",
    "    if num[index] > max_value:\n",
    "        max_value = num[index]\n",
    "    index += 1\n",
    "\n",
    "print(max_value)\n",
    "\n",
    "\n",
    "\n",
    "# Initialize the min value with the first element\n",
    "min_value = num[0]\n",
    "index = 0\n",
    "\n",
    "# Use a while loop to iterate through the list\n",
    "while index < len(num):\n",
    "    if num[index] < min_value:\n",
    "        min_value = num[index]\n",
    "    index += 1\n",
    "\n",
    "print(min_value)\n"
   ]
  },
  {
   "cell_type": "markdown",
   "metadata": {},
   "source": [
    "Join all the list items into single string \n"
   ]
  },
  {
   "cell_type": "code",
   "execution_count": 20,
   "metadata": {},
   "outputs": [
    {
     "name": "stdout",
     "output_type": "stream",
     "text": [
      "ram-hari-gopal\n"
     ]
    }
   ],
   "source": [
    "students=['ram','hari','gopal']\n",
    "all_students='-'.join(students)\n",
    "print(all_students)"
   ]
  }
 ],
 "metadata": {
  "kernelspec": {
   "display_name": "Python 3",
   "language": "python",
   "name": "python3"
  },
  "language_info": {
   "codemirror_mode": {
    "name": "ipython",
    "version": 3
   },
   "file_extension": ".py",
   "mimetype": "text/x-python",
   "name": "python",
   "nbconvert_exporter": "python",
   "pygments_lexer": "ipython3",
   "version": "3.12.7"
  }
 },
 "nbformat": 4,
 "nbformat_minor": 2
}
