{
 "cells": [
  {
   "cell_type": "markdown",
   "metadata": {},
   "source": [
    "# <center> Week 2- Python Programming- Function </center>\n",
    "Aashik kumar Jha"
   ]
  },
  {
   "cell_type": "markdown",
   "metadata": {},
   "source": [
    "# Explanation \n",
    "The second week focused on basic topics Python lambda function arbitrary arguments, return statements, the default arguments, the range function, for loop statements. From this we discovered that lambda functions enable a user to write very small, anonymous functions for brief use. These functions are very valuable, especially when used as arguments in other higher-order functions such as map() or filter(). The star operator for arguments is useful whenever you want to create functions that may take any number of arguments making your code more versatile.\n",
    "\n",
    "Return statements are important in functions so as to enable users to access results of a function, after which the results can be further used outside the function. Thus, the default arguments give the possibility to set the parameters of a function and make the application more varied by creating functions for some of the parameters as optional. The range function and for loop are very useful for repetition and controlling the work flow. It is a Rank_to_index mapping function that produces a sequence of numbers and can be in different forms such as range (start, stop, step) where we can control iteration.\n",
    "\n",
    "These include for loop statements which are used in iteration of other structures for instance lists. For instance, when using a list, one can make a more elaborate loop using together iteration and range functions. We also did some revision on creation of new list having only even elements How to efficiently delete duplicates. Inline loops do also called as list comprehensions are the right way for creating new list from the given lists without any complex coding. Defining functions (def function_name(parameters): , the last control structure was defined and the usage of return expression as well as the logical block of code was also highlighted to show how functions can perform multiple operations and return results.\n",
    "\n",
    "We also discussed such topics as work with functions containing several parameters, usage of default and arbitrary arguments, and the role of return indications. We did some practical questions like ‘how many vowels are there in the given string? Looking at how these different elements tie together and learning about lambda functions makes us ready to write cleaner and more concise Python code."
   ]
  },
  {
   "cell_type": "markdown",
   "metadata": {},
   "source": [
    "#  For Loop"
   ]
  },
  {
   "cell_type": "markdown",
   "metadata": {},
   "source": [
    "# lterate over list,range(enumarator)"
   ]
  },
  {
   "cell_type": "code",
   "execution_count": 1,
   "metadata": {},
   "outputs": [
    {
     "name": "stdout",
     "output_type": "stream",
     "text": [
      "1\n",
      "2\n",
      "3\n",
      "4\n",
      "5\n"
     ]
    }
   ],
   "source": [
    "number=[1,2,3,4,5] #list of int \n",
    "\n",
    "for num in number:\n",
    "    print(num)"
   ]
  },
  {
   "cell_type": "markdown",
   "metadata": {},
   "source": [
    "# Create new list of even number from given list "
   ]
  },
  {
   "cell_type": "code",
   "execution_count": 2,
   "metadata": {},
   "outputs": [
    {
     "name": "stdout",
     "output_type": "stream",
     "text": [
      "2\n",
      "4\n",
      "100\n",
      "[2, 4, 100]\n"
     ]
    }
   ],
   "source": [
    "number = [1, 2, 3, 4, 5, 3, 11, 100]  # list of int\n",
    "even_list = []  # Initialize the list\n",
    "\n",
    "for num in number:\n",
    "    if num % 2 == 0:\n",
    "        print(num)\n",
    "        even_list.append(num)\n",
    "\n",
    "print(even_list)  # Print the even numbers list\n"
   ]
  },
  {
   "cell_type": "markdown",
   "metadata": {},
   "source": [
    "# create new list by remove duplicate items from given list "
   ]
  },
  {
   "cell_type": "code",
   "execution_count": 3,
   "metadata": {},
   "outputs": [
    {
     "name": "stdout",
     "output_type": "stream",
     "text": [
      "[1, 2, 3, 4, 5, 11, 100]\n"
     ]
    }
   ],
   "source": [
    "number = [1,1, 2, 3, 4, 5, 3, 11, 100]  # list of int\n",
    "\n",
    "unique_number=[]\n",
    "for num in number:\n",
    "    if num not in unique_number:\n",
    "        unique_number.append(num)\n",
    "print(unique_number)\n",
    "\n"
   ]
  },
  {
   "cell_type": "markdown",
   "metadata": {},
   "source": [
    "# Range ( Start,stop,step)"
   ]
  },
  {
   "cell_type": "code",
   "execution_count": 6,
   "metadata": {},
   "outputs": [
    {
     "name": "stdout",
     "output_type": "stream",
     "text": [
      "0\n",
      "1\n",
      "2\n",
      "3\n",
      "4\n",
      "5\n",
      "6\n",
      "7\n",
      "8\n",
      "9\n"
     ]
    }
   ],
   "source": [
    "range_of_100=range(1,100)\n",
    "sum=0\n",
    "for i in range (0,10): # for c: for i:0; i<10; i++\n",
    "    print(i)\n",
    "    sum+=i"
   ]
  },
  {
   "cell_type": "markdown",
   "metadata": {},
   "source": [
    "# inline Loop"
   ]
  },
  {
   "cell_type": "code",
   "execution_count": 11,
   "metadata": {},
   "outputs": [
    {
     "name": "stdout",
     "output_type": "stream",
     "text": [
      "[2, 4, 88]\n",
      "[1, 2, 3, 4, 5, 88, 19]\n"
     ]
    }
   ],
   "source": [
    "number=[1,2,3,4,5,88,19]\n",
    "list_of_even_number=[num for num in number if num %2==0]\n",
    "print(list_of_even_number)\n",
    "\n",
    "# for without if condition \n",
    "number=[1,2,3,4,5,88,19]\n",
    "list_of_even_number=[num for num in number ]\n",
    "print(list_of_even_number)"
   ]
  },
  {
   "cell_type": "code",
   "execution_count": 15,
   "metadata": {},
   "outputs": [
    {
     "name": "stdout",
     "output_type": "stream",
     "text": [
      "[1, 200, 3, 400, 5, 8800, 19]\n"
     ]
    }
   ],
   "source": [
    "number=[1,2,3,4,5,88,19]\n",
    "Transformed_list=[(num *100 if num%2==0 else num) for num in number]\n",
    "print(Transformed_list)\n"
   ]
  },
  {
   "cell_type": "markdown",
   "metadata": {},
   "source": [
    "# Function\n",
    "\n",
    "def a function_name(parameter):\n",
    "\n",
    "block of code\n",
    "\n",
    "Return expression \n",
    "\n"
   ]
  },
  {
   "cell_type": "code",
   "execution_count": 18,
   "metadata": {},
   "outputs": [
    {
     "name": "stdout",
     "output_type": "stream",
     "text": [
      "90\n",
      "23\n"
     ]
    }
   ],
   "source": [
    "def add(x,y):\n",
    "    sum=x+y\n",
    "    return sum\n",
    "sum_of_two_num=add(x=34,y=56)\n",
    "print(sum_of_two_num)\n",
    "print(add(11,12))"
   ]
  },
  {
   "cell_type": "markdown",
   "metadata": {},
   "source": [
    "# Multiple"
   ]
  },
  {
   "cell_type": "code",
   "execution_count": 27,
   "metadata": {},
   "outputs": [
    {
     "name": "stdout",
     "output_type": "stream",
     "text": [
      "1904\n"
     ]
    }
   ],
   "source": [
    "def product(x,y):\n",
    "    Mul=x*y\n",
    "    return Mul\n",
    "\n",
    "product_of_two_num= product(x=34,y=56)\n",
    "print(product_of_two_num)\n"
   ]
  },
  {
   "cell_type": "markdown",
   "metadata": {},
   "source": [
    "# Defualt Argument "
   ]
  },
  {
   "cell_type": "code",
   "execution_count": 2,
   "metadata": {},
   "outputs": [
    {
     "name": "stdout",
     "output_type": "stream",
     "text": [
      "Hello,Hari!\n",
      "8\n"
     ]
    }
   ],
   "source": [
    "def greet(name=\"world\"):\n",
    "    print (f\"Hello,{name}!\")\n",
    "greet(\"Hari\")\n",
    "\n",
    "def sum(a=0,b=0):\n",
    "    return a+b\n",
    "\n",
    "print(sum(a=5,b=3))"
   ]
  },
  {
   "cell_type": "markdown",
   "metadata": {},
   "source": [
    "# Arbitrary Arguments \n",
    "Funcation can accept the variable numuber of arguments using \"args\" or **kwargs (keywords)\n",
    "\n",
    "*args is ued to pass the variable number of positional arguments while **kwargs is used to pass the variable number of key arguments "
   ]
  },
  {
   "cell_type": "code",
   "execution_count": 11,
   "metadata": {},
   "outputs": [
    {
     "name": "stdout",
     "output_type": "stream",
     "text": [
      "1 2\n",
      "(3, 4, 5)\n",
      "(3, 4, 5)\n"
     ]
    }
   ],
   "source": [
    "def add(a, b, *args):\n",
    "    print(a, b)\n",
    "    print(args)\n",
    "    \n",
    "    return args\n",
    "\n",
    "# Call the function\n",
    "result = add(1, 2, 3, 4, 5)\n",
    "print(result)\n"
   ]
  },
  {
   "cell_type": "markdown",
   "metadata": {},
   "source": [
    "# Return Statement\n",
    "\n"
   ]
  },
  {
   "cell_type": "code",
   "execution_count": 19,
   "metadata": {},
   "outputs": [
    {
     "name": "stdout",
     "output_type": "stream",
     "text": [
      "Number is odd\n",
      "Flase\n"
     ]
    }
   ],
   "source": [
    "def is_even_number(number):\n",
    "    if number %2==0:\n",
    "        return \"Number is even\"\n",
    "    return \"Number is odd\"\n",
    "\n",
    "check_number=is_even_number(5)\n",
    "print(check_number)\n",
    "\n",
    "\n",
    "#using boolean\n",
    "def even_number(num) ->bool:\n",
    "    if num %2==0:\n",
    "        return \"True\"\n",
    "    \n",
    "    return \"Flase\"\n",
    "\n",
    "check_number=even_number(5)\n",
    "print(check_number)"
   ]
  },
  {
   "cell_type": "markdown",
   "metadata": {},
   "source": [
    "# Question\n",
    "#Write a function that accepts three value (arguments)x,y,operations\n",
    "#where x =>int, y->int, operation ->string (+,-,*,/)\n",
    "#function should return the output based on the operation \n",
    "#i.e if operation =+ add (x+y)\n",
    "#operation = - substract and so on (x-y)\n"
   ]
  },
  {
   "cell_type": "code",
   "execution_count": 28,
   "metadata": {},
   "outputs": [
    {
     "name": "stdout",
     "output_type": "stream",
     "text": [
      "15\n",
      "5\n",
      "50\n",
      "2.0\n"
     ]
    }
   ],
   "source": [
    "def calculate(x, y, operation):\n",
    "    if operation == '+':\n",
    "        return x + y\n",
    "    elif operation == '-':\n",
    "        return x - y\n",
    "    elif operation == '*':\n",
    "        \n",
    "        return x * y\n",
    "    elif operation == '/':\n",
    "        try: #to handle DivisionError or ZeroDivisionError \n",
    "            return x / y\n",
    "        except ZeroDivisionError as e:\n",
    "            print(e)\n",
    "            return None\n",
    "        \n",
    "        else:\n",
    "            Print('Denominator can not be zero ')\n",
    "    else:\n",
    "        Print(\"Invalid operation\")\n",
    "\n",
    "# Example usage:\n",
    "result = calculate(10, 5, '+')\n",
    "print(result) \n",
    "\n",
    "result = calculate(10, 5, '-')\n",
    "print(result) \n",
    "\n",
    "result = calculate(10, 5, '*')\n",
    "print(result) \n",
    "\n",
    "result = calculate(10, 5, '/')\n",
    "print(result) "
   ]
  },
  {
   "cell_type": "markdown",
   "metadata": {},
   "source": [
    "# Lambda Function \n",
    "lamda function also know as anonymous function are small single expression function define using lambda keywords \n",
    "\n",
    "They are often used for short simple operations "
   ]
  },
  {
   "cell_type": "code",
   "execution_count": 35,
   "metadata": {},
   "outputs": [
    {
     "name": "stdout",
     "output_type": "stream",
     "text": [
      "16\n"
     ]
    }
   ],
   "source": [
    "square=lambda x:x**2\n",
    "print(square(4)) #output 16"
   ]
  },
  {
   "cell_type": "markdown",
   "metadata": {},
   "source": [
    "# Question for Practice \n",
    "#write a function swap two numbers without using temporary variable. \n"
   ]
  },
  {
   "cell_type": "code",
   "execution_count": 38,
   "metadata": {},
   "outputs": [
    {
     "name": "stdout",
     "output_type": "stream",
     "text": [
      "10 5\n"
     ]
    }
   ],
   "source": [
    "def swap(a, b):\n",
    "    a = a + b\n",
    "    b = a - b\n",
    "    a = a -b\n",
    "    return a, b\n",
    "\n",
    "x, y = 5, 10\n",
    "x, y = swap(x, y)\n",
    "print(x, y) "
   ]
  },
  {
   "cell_type": "markdown",
   "metadata": {},
   "source": [
    "#write a function to determine if a string is a palindrom( palindrom is if we reverse it has same value)"
   ]
  },
  {
   "cell_type": "code",
   "execution_count": 43,
   "metadata": {},
   "outputs": [
    {
     "data": {
      "text/plain": [
       "False"
      ]
     },
     "execution_count": 43,
     "metadata": {},
     "output_type": "execute_result"
    }
   ],
   "source": [
    "def is_palindrom(name):\n",
    "    if name == input[::-1]:\n",
    "        return True\n",
    "    return False\n",
    "is_palindrom(\"racecar\")\n",
    "\n",
    "#using loop \n"
   ]
  },
  {
   "cell_type": "markdown",
   "metadata": {},
   "source": [
    "#write a function to count the number of vowels in given string "
   ]
  },
  {
   "cell_type": "code",
   "execution_count": 1,
   "metadata": {},
   "outputs": [
    {
     "name": "stdout",
     "output_type": "stream",
     "text": [
      "Number of vowels: 3\n"
     ]
    }
   ],
   "source": [
    "def count_vowels(string):\n",
    "    vowels = 'aeiou'\n",
    "    count = 0\n",
    "    for char in string:\n",
    "        if char.lower() in vowels:  # Fixed: Added parentheses to call lower()\n",
    "            count += 1\n",
    "    return count\n",
    "\n",
    "# Example usage\n",
    "text = \"Hello World\"\n",
    "print(\"Number of vowels:\", count_vowels(text))\n"
   ]
  },
  {
   "cell_type": "markdown",
   "metadata": {},
   "source": [
    "\n",
    "- ###  write a function Find the common elements between two lists"
   ]
  },
  {
   "cell_type": "code",
   "execution_count": null,
   "metadata": {},
   "outputs": [
    {
     "name": "stdout",
     "output_type": "stream",
     "text": [
      "[3, 4]\n"
     ]
    }
   ],
   "source": [
    "def find_common_elements(list1, list2):\n",
    "    return list(set(list1) & set(list2))\n",
    "\n",
    "# Example usage\n",
    "list1 = [1, 2, 3, 4]\n",
    "list2 = [3, 4, 5, 6]\n",
    "print(find_common_elements(list1, list2)) \n"
   ]
  },
  {
   "cell_type": "markdown",
   "metadata": {},
   "source": [
    "###  write a function to Check if a given number is a perfect square"
   ]
  },
  {
   "cell_type": "code",
   "execution_count": null,
   "metadata": {},
   "outputs": [
    {
     "name": "stdout",
     "output_type": "stream",
     "text": [
      "True\n",
      "False\n"
     ]
    }
   ],
   "source": [
    "def is_perfect_square(num):\n",
    "    if num < 0:\n",
    "        return False\n",
    "    root = int(num**0.5)\n",
    "    return root * root == num\n",
    "\n",
    "# Example usage\n",
    "print(is_perfect_square(16))  \n",
    "print(is_perfect_square(15)) \n"
   ]
  },
  {
   "cell_type": "markdown",
   "metadata": {},
   "source": [
    " ###  write a function Count the occurrences of a specific character in a string"
   ]
  },
  {
   "cell_type": "code",
   "execution_count": null,
   "metadata": {},
   "outputs": [
    {
     "name": "stdout",
     "output_type": "stream",
     "text": [
      "2\n"
     ]
    }
   ],
   "source": [
    "def count_character(string, char):\n",
    "    return string.count(char)\n",
    "\n",
    "# Example usage\n",
    "print(count_character(\"hello world\", \"o\"))  \n"
   ]
  },
  {
   "cell_type": "markdown",
   "metadata": {},
   "source": [
    " ###  Write a function to Find the second largest number in a list\n"
   ]
  },
  {
   "cell_type": "code",
   "execution_count": 6,
   "metadata": {},
   "outputs": [
    {
     "name": "stdout",
     "output_type": "stream",
     "text": [
      "4\n"
     ]
    }
   ],
   "source": [
    "def second_largest(numbers):\n",
    "    unique_numbers = list(set(numbers))\n",
    "    unique_numbers.sort()\n",
    "    return unique_numbers[-2] if len(unique_numbers) >= 2 else None\n",
    "\n",
    "# Example usage\n",
    "print(second_largest([1, 3, 4, 5, 5, 2]))  \n"
   ]
  },
  {
   "cell_type": "markdown",
   "metadata": {},
   "source": [
    "- ###  Write a function to remove duplicates from a list"
   ]
  },
  {
   "cell_type": "code",
   "execution_count": null,
   "metadata": {},
   "outputs": [
    {
     "name": "stdout",
     "output_type": "stream",
     "text": [
      "[1, 2, 3, 4, 5]\n"
     ]
    }
   ],
   "source": [
    "def remove_duplicates(input_list):\n",
    "    return list(set(input_list))\n",
    "\n",
    "# Example usage\n",
    "print(remove_duplicates([1, 2, 2, 3, 4, 4, 5])) \n"
   ]
  },
  {
   "cell_type": "markdown",
   "metadata": {},
   "source": [
    "###  Write a function that prints the multiplication table of given number\n",
    "-"
   ]
  },
  {
   "cell_type": "code",
   "execution_count": null,
   "metadata": {},
   "outputs": [
    {
     "name": "stdout",
     "output_type": "stream",
     "text": [
      "5 x 1 = 5\n",
      "5 x 2 = 10\n",
      "5 x 3 = 15\n",
      "5 x 4 = 20\n",
      "5 x 5 = 25\n",
      "5 x 6 = 30\n",
      "5 x 7 = 35\n",
      "5 x 8 = 40\n",
      "5 x 9 = 45\n",
      "5 x 10 = 50\n"
     ]
    }
   ],
   "source": [
    "def multiplication_table(n, upto=10):\n",
    "    for i in range(1, upto + 1):\n",
    "        print(f\"{n} x {i} = {n * i}\")\n",
    "\n",
    "# Example usage\n",
    "multiplication_table(5)  \n"
   ]
  },
  {
   "cell_type": "markdown",
   "metadata": {},
   "source": [
    " ### Write a function Check if a number is prime"
   ]
  },
  {
   "cell_type": "code",
   "execution_count": 9,
   "metadata": {},
   "outputs": [
    {
     "name": "stdout",
     "output_type": "stream",
     "text": [
      "True\n",
      "False\n"
     ]
    }
   ],
   "source": [
    "def is_prime(num):\n",
    "    if num <= 1:\n",
    "        return False\n",
    "    for i in range(2, int(num**0.5) + 1):\n",
    "        if num % i == 0:\n",
    "            return False\n",
    "    return True\n",
    "\n",
    "# Example usage\n",
    "print(is_prime(11))  \n",
    "print(is_prime(4))   \n"
   ]
  }
 ],
 "metadata": {
  "kernelspec": {
   "display_name": "Python 3",
   "language": "python",
   "name": "python3"
  },
  "language_info": {
   "codemirror_mode": {
    "name": "ipython",
    "version": 3
   },
   "file_extension": ".py",
   "mimetype": "text/x-python",
   "name": "python",
   "nbconvert_exporter": "python",
   "pygments_lexer": "ipython3",
   "version": "3.12.7"
  }
 },
 "nbformat": 4,
 "nbformat_minor": 2
}
