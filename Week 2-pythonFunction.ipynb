{
 "cells": [
  {
   "cell_type": "markdown",
   "metadata": {},
   "source": [
    "# <center> Week 2- Python Programming- Function </center>\n",
    "Aashik kumar Jha"
   ]
  },
  {
   "cell_type": "markdown",
   "metadata": {},
   "source": [
    "#  For Loop"
   ]
  },
  {
   "cell_type": "markdown",
   "metadata": {},
   "source": [
    "# lterate over list,range(enumarator)"
   ]
  },
  {
   "cell_type": "code",
   "execution_count": 1,
   "metadata": {},
   "outputs": [
    {
     "name": "stdout",
     "output_type": "stream",
     "text": [
      "1\n",
      "2\n",
      "3\n",
      "4\n",
      "5\n"
     ]
    }
   ],
   "source": [
    "number=[1,2,3,4,5] #list of int \n",
    "\n",
    "for num in number:\n",
    "    print(num)"
   ]
  },
  {
   "cell_type": "markdown",
   "metadata": {},
   "source": [
    "# Create new list of even number from given list "
   ]
  },
  {
   "cell_type": "code",
   "execution_count": 2,
   "metadata": {},
   "outputs": [
    {
     "name": "stdout",
     "output_type": "stream",
     "text": [
      "2\n",
      "4\n",
      "100\n",
      "[2, 4, 100]\n"
     ]
    }
   ],
   "source": [
    "number = [1, 2, 3, 4, 5, 3, 11, 100]  # list of int\n",
    "even_list = []  # Initialize the list\n",
    "\n",
    "for num in number:\n",
    "    if num % 2 == 0:\n",
    "        print(num)\n",
    "        even_list.append(num)\n",
    "\n",
    "print(even_list)  # Print the even numbers list\n"
   ]
  },
  {
   "cell_type": "markdown",
   "metadata": {},
   "source": [
    "# create new list by remove duplicate items from given list "
   ]
  },
  {
   "cell_type": "code",
   "execution_count": 3,
   "metadata": {},
   "outputs": [
    {
     "name": "stdout",
     "output_type": "stream",
     "text": [
      "[1, 2, 3, 4, 5, 11, 100]\n"
     ]
    }
   ],
   "source": [
    "number = [1,1, 2, 3, 4, 5, 3, 11, 100]  # list of int\n",
    "\n",
    "unique_number=[]\n",
    "for num in number:\n",
    "    if num not in unique_number:\n",
    "        unique_number.append(num)\n",
    "print(unique_number)\n",
    "\n"
   ]
  },
  {
   "cell_type": "markdown",
   "metadata": {},
   "source": [
    "# Range ( Start,stop,step)"
   ]
  },
  {
   "cell_type": "code",
   "execution_count": 6,
   "metadata": {},
   "outputs": [
    {
     "name": "stdout",
     "output_type": "stream",
     "text": [
      "0\n",
      "1\n",
      "2\n",
      "3\n",
      "4\n",
      "5\n",
      "6\n",
      "7\n",
      "8\n",
      "9\n"
     ]
    }
   ],
   "source": [
    "range_of_100=range(1,100)\n",
    "sum=0\n",
    "for i in range (0,10): # for c: for i:0; i<10; i++\n",
    "    print(i)\n",
    "    sum+=i"
   ]
  },
  {
   "cell_type": "markdown",
   "metadata": {},
   "source": [
    "# inline Loop"
   ]
  },
  {
   "cell_type": "code",
   "execution_count": 11,
   "metadata": {},
   "outputs": [
    {
     "name": "stdout",
     "output_type": "stream",
     "text": [
      "[2, 4, 88]\n",
      "[1, 2, 3, 4, 5, 88, 19]\n"
     ]
    }
   ],
   "source": [
    "number=[1,2,3,4,5,88,19]\n",
    "list_of_even_number=[num for num in number if num %2==0]\n",
    "print(list_of_even_number)\n",
    "\n",
    "# for without if condition \n",
    "number=[1,2,3,4,5,88,19]\n",
    "list_of_even_number=[num for num in number ]\n",
    "print(list_of_even_number)"
   ]
  },
  {
   "cell_type": "code",
   "execution_count": 15,
   "metadata": {},
   "outputs": [
    {
     "name": "stdout",
     "output_type": "stream",
     "text": [
      "[1, 200, 3, 400, 5, 8800, 19]\n"
     ]
    }
   ],
   "source": [
    "number=[1,2,3,4,5,88,19]\n",
    "Transformed_list=[(num *100 if num%2==0 else num) for num in number]\n",
    "print(Transformed_list)\n"
   ]
  },
  {
   "cell_type": "markdown",
   "metadata": {},
   "source": [
    "# Function\n",
    "\n",
    "def a function_name(parameter):\n",
    "\n",
    "block of code\n",
    "\n",
    "Return expression \n",
    "\n"
   ]
  },
  {
   "cell_type": "code",
   "execution_count": 18,
   "metadata": {},
   "outputs": [
    {
     "name": "stdout",
     "output_type": "stream",
     "text": [
      "90\n",
      "23\n"
     ]
    }
   ],
   "source": [
    "def add(x,y):\n",
    "    sum=x+y\n",
    "    return sum\n",
    "sum_of_two_num=add(x=34,y=56)\n",
    "print(sum_of_two_num)\n",
    "print(add(11,12))"
   ]
  },
  {
   "cell_type": "markdown",
   "metadata": {},
   "source": [
    "# Multiple"
   ]
  },
  {
   "cell_type": "code",
   "execution_count": 27,
   "metadata": {},
   "outputs": [
    {
     "name": "stdout",
     "output_type": "stream",
     "text": [
      "1904\n"
     ]
    }
   ],
   "source": [
    "def product(x,y):\n",
    "    Mul=x*y\n",
    "    return Mul\n",
    "\n",
    "product_of_two_num= product(x=34,y=56)\n",
    "print(product_of_two_num)\n"
   ]
  },
  {
   "cell_type": "code",
   "execution_count": null,
   "metadata": {},
   "outputs": [],
   "source": []
  }
 ],
 "metadata": {
  "kernelspec": {
   "display_name": "Python 3",
   "language": "python",
   "name": "python3"
  },
  "language_info": {
   "codemirror_mode": {
    "name": "ipython",
    "version": 3
   },
   "file_extension": ".py",
   "mimetype": "text/x-python",
   "name": "python",
   "nbconvert_exporter": "python",
   "pygments_lexer": "ipython3",
   "version": "3.12.7"
  }
 },
 "nbformat": 4,
 "nbformat_minor": 2
}
