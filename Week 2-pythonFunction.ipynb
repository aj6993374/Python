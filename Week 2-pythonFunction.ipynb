{
 "cells": [
  {
   "cell_type": "markdown",
   "metadata": {},
   "source": [
    "# <center> Week 2- Python Programming- Function </center>\n",
    "Aashik kumar Jha"
   ]
  },
  {
   "cell_type": "markdown",
   "metadata": {},
   "source": [
    "#  For Loop"
   ]
  },
  {
   "cell_type": "markdown",
   "metadata": {},
   "source": [
    "# lterate over list,range(enumarator)"
   ]
  },
  {
   "cell_type": "code",
   "execution_count": 1,
   "metadata": {},
   "outputs": [
    {
     "name": "stdout",
     "output_type": "stream",
     "text": [
      "1\n",
      "2\n",
      "3\n",
      "4\n",
      "5\n"
     ]
    }
   ],
   "source": [
    "number=[1,2,3,4,5] #list of int \n",
    "\n",
    "for num in number:\n",
    "    print(num)"
   ]
  },
  {
   "cell_type": "markdown",
   "metadata": {},
   "source": [
    "# Create new list of even number from given list "
   ]
  },
  {
   "cell_type": "code",
   "execution_count": 2,
   "metadata": {},
   "outputs": [
    {
     "name": "stdout",
     "output_type": "stream",
     "text": [
      "2\n",
      "4\n",
      "100\n",
      "[2, 4, 100]\n"
     ]
    }
   ],
   "source": [
    "number = [1, 2, 3, 4, 5, 3, 11, 100]  # list of int\n",
    "even_list = []  # Initialize the list\n",
    "\n",
    "for num in number:\n",
    "    if num % 2 == 0:\n",
    "        print(num)\n",
    "        even_list.append(num)\n",
    "\n",
    "print(even_list)  # Print the even numbers list\n"
   ]
  },
  {
   "cell_type": "markdown",
   "metadata": {},
   "source": [
    "# create new list by remove duplicate items from given list "
   ]
  },
  {
   "cell_type": "code",
   "execution_count": 3,
   "metadata": {},
   "outputs": [
    {
     "name": "stdout",
     "output_type": "stream",
     "text": [
      "[1, 2, 3, 4, 5, 11, 100]\n"
     ]
    }
   ],
   "source": [
    "number = [1,1, 2, 3, 4, 5, 3, 11, 100]  # list of int\n",
    "\n",
    "unique_number=[]\n",
    "for num in number:\n",
    "    if num not in unique_number:\n",
    "        unique_number.append(num)\n",
    "print(unique_number)\n",
    "\n"
   ]
  },
  {
   "cell_type": "markdown",
   "metadata": {},
   "source": [
    "# Range ( Start,stop,step)"
   ]
  },
  {
   "cell_type": "code",
   "execution_count": 6,
   "metadata": {},
   "outputs": [
    {
     "name": "stdout",
     "output_type": "stream",
     "text": [
      "0\n",
      "1\n",
      "2\n",
      "3\n",
      "4\n",
      "5\n",
      "6\n",
      "7\n",
      "8\n",
      "9\n"
     ]
    }
   ],
   "source": [
    "range_of_100=range(1,100)\n",
    "sum=0\n",
    "for i in range (0,10): # for c: for i:0; i<10; i++\n",
    "    print(i)\n",
    "    sum+=i"
   ]
  },
  {
   "cell_type": "markdown",
   "metadata": {},
   "source": [
    "# inline Loop"
   ]
  },
  {
   "cell_type": "code",
   "execution_count": 11,
   "metadata": {},
   "outputs": [
    {
     "name": "stdout",
     "output_type": "stream",
     "text": [
      "[2, 4, 88]\n",
      "[1, 2, 3, 4, 5, 88, 19]\n"
     ]
    }
   ],
   "source": [
    "number=[1,2,3,4,5,88,19]\n",
    "list_of_even_number=[num for num in number if num %2==0]\n",
    "print(list_of_even_number)\n",
    "\n",
    "# for without if condition \n",
    "number=[1,2,3,4,5,88,19]\n",
    "list_of_even_number=[num for num in number ]\n",
    "print(list_of_even_number)"
   ]
  },
  {
   "cell_type": "code",
   "execution_count": 15,
   "metadata": {},
   "outputs": [
    {
     "name": "stdout",
     "output_type": "stream",
     "text": [
      "[1, 200, 3, 400, 5, 8800, 19]\n"
     ]
    }
   ],
   "source": [
    "number=[1,2,3,4,5,88,19]\n",
    "Transformed_list=[(num *100 if num%2==0 else num) for num in number]\n",
    "print(Transformed_list)\n"
   ]
  },
  {
   "cell_type": "markdown",
   "metadata": {},
   "source": [
    "# Function\n",
    "\n",
    "def a function_name(parameter):\n",
    "\n",
    "block of code\n",
    "\n",
    "Return expression \n",
    "\n"
   ]
  },
  {
   "cell_type": "code",
   "execution_count": 18,
   "metadata": {},
   "outputs": [
    {
     "name": "stdout",
     "output_type": "stream",
     "text": [
      "90\n",
      "23\n"
     ]
    }
   ],
   "source": [
    "def add(x,y):\n",
    "    sum=x+y\n",
    "    return sum\n",
    "sum_of_two_num=add(x=34,y=56)\n",
    "print(sum_of_two_num)\n",
    "print(add(11,12))"
   ]
  },
  {
   "cell_type": "markdown",
   "metadata": {},
   "source": [
    "# Multiple"
   ]
  },
  {
   "cell_type": "code",
   "execution_count": 27,
   "metadata": {},
   "outputs": [
    {
     "name": "stdout",
     "output_type": "stream",
     "text": [
      "1904\n"
     ]
    }
   ],
   "source": [
    "def product(x,y):\n",
    "    Mul=x*y\n",
    "    return Mul\n",
    "\n",
    "product_of_two_num= product(x=34,y=56)\n",
    "print(product_of_two_num)\n"
   ]
  },
  {
   "cell_type": "markdown",
   "metadata": {},
   "source": [
    "# Defualt Argument "
   ]
  },
  {
   "cell_type": "code",
   "execution_count": 2,
   "metadata": {},
   "outputs": [
    {
     "name": "stdout",
     "output_type": "stream",
     "text": [
      "Hello,Hari!\n",
      "8\n"
     ]
    }
   ],
   "source": [
    "def greet(name=\"world\"):\n",
    "    print (f\"Hello,{name}!\")\n",
    "greet(\"Hari\")\n",
    "\n",
    "def sum(a=0,b=0):\n",
    "    return a+b\n",
    "\n",
    "print(sum(a=5,b=3))"
   ]
  },
  {
   "cell_type": "markdown",
   "metadata": {},
   "source": [
    "# Arbitrary Arguments \n",
    "Funcation can accept the variable numuber of arguments using \"args\" or **kwargs (keywords)\n",
    "\n",
    "*args is ued to pass the variable number of positional arguments while **kwargs is used to pass the variable number of key arguments "
   ]
  },
  {
   "cell_type": "code",
   "execution_count": 9,
   "metadata": {},
   "outputs": [],
   "source": [
    "def add(a,b,*args):\n",
    "    print(a,b)\n",
    "    print(args)\n",
    "    \n",
    "    return (args)\n",
    "    a=add(1,2,3,4,5)\n",
    "    print(a)"
   ]
  },
  {
   "cell_type": "markdown",
   "metadata": {},
   "source": [
    "# Return Statement\n",
    "\n"
   ]
  },
  {
   "cell_type": "code",
   "execution_count": 19,
   "metadata": {},
   "outputs": [
    {
     "name": "stdout",
     "output_type": "stream",
     "text": [
      "Number is odd\n",
      "Flase\n"
     ]
    }
   ],
   "source": [
    "def is_even_number(number):\n",
    "    if number %2==0:\n",
    "        return \"Number is even\"\n",
    "    return \"Number is odd\"\n",
    "\n",
    "check_number=is_even_number(5)\n",
    "print(check_number)\n",
    "\n",
    "\n",
    "#using boolean\n",
    "def even_number(num) ->bool:\n",
    "    if num %2==0:\n",
    "        return \"True\"\n",
    "    \n",
    "    return \"Flase\"\n",
    "\n",
    "check_number=even_number(5)\n",
    "print(check_number)"
   ]
  },
  {
   "cell_type": "markdown",
   "metadata": {},
   "source": [
    "# Question\n",
    "#Write a function that accepts three value (arguments)x,y,operations\n",
    "#where x =>int, y->int, operation ->string (+,-,*,/)\n",
    "#function should return the output based on the operation \n",
    "#i.e if operation =+ add (x+y)\n",
    "#operation = - substract and so on (x-y)\n"
   ]
  },
  {
   "cell_type": "code",
   "execution_count": 28,
   "metadata": {},
   "outputs": [
    {
     "name": "stdout",
     "output_type": "stream",
     "text": [
      "15\n",
      "5\n",
      "50\n",
      "2.0\n"
     ]
    }
   ],
   "source": [
    "def calculate(x, y, operation):\n",
    "    if operation == '+':\n",
    "        return x + y\n",
    "    elif operation == '-':\n",
    "        return x - y\n",
    "    elif operation == '*':\n",
    "        \n",
    "        return x * y\n",
    "    elif operation == '/':\n",
    "        try: #to handle DivisionError or ZeroDivisionError \n",
    "            return x / y\n",
    "        except ZeroDivisionError as e:\n",
    "            print(e)\n",
    "            return None\n",
    "        \n",
    "        else:\n",
    "            Print('Denominator can not be zero ')\n",
    "    else:\n",
    "        Print(\"Invalid operation\")\n",
    "\n",
    "# Example usage:\n",
    "result = calculate(10, 5, '+')\n",
    "print(result) \n",
    "\n",
    "result = calculate(10, 5, '-')\n",
    "print(result) \n",
    "\n",
    "result = calculate(10, 5, '*')\n",
    "print(result) \n",
    "\n",
    "result = calculate(10, 5, '/')\n",
    "print(result) "
   ]
  },
  {
   "cell_type": "markdown",
   "metadata": {},
   "source": [
    "# Lambda Function \n",
    "lamda function also know as anonymous function are small single expression function define using lambda keywords \n",
    "\n",
    "They are often used for short simple operations "
   ]
  },
  {
   "cell_type": "code",
   "execution_count": 35,
   "metadata": {},
   "outputs": [
    {
     "name": "stdout",
     "output_type": "stream",
     "text": [
      "16\n"
     ]
    }
   ],
   "source": [
    "square=lambda x:x**2\n",
    "print(square(4)) #output 16"
   ]
  },
  {
   "cell_type": "markdown",
   "metadata": {},
   "source": [
    "# Question for Practice \n",
    "#write a function swap two numbers without using temporary variable. \n"
   ]
  },
  {
   "cell_type": "code",
   "execution_count": 38,
   "metadata": {},
   "outputs": [
    {
     "name": "stdout",
     "output_type": "stream",
     "text": [
      "10 5\n"
     ]
    }
   ],
   "source": [
    "def swap(a, b):\n",
    "    a = a + b\n",
    "    b = a - b\n",
    "    a = a -b\n",
    "    return a, b\n",
    "\n",
    "x, y = 5, 10\n",
    "x, y = swap(x, y)\n",
    "print(x, y) "
   ]
  },
  {
   "cell_type": "markdown",
   "metadata": {},
   "source": [
    "#write a function to determine if a string is a palindrom( palindrom is if we reverse it has same value)"
   ]
  },
  {
   "cell_type": "code",
   "execution_count": 43,
   "metadata": {},
   "outputs": [
    {
     "data": {
      "text/plain": [
       "False"
      ]
     },
     "execution_count": 43,
     "metadata": {},
     "output_type": "execute_result"
    }
   ],
   "source": [
    "def is_palindrom(name):\n",
    "    if name == input[::-1]:\n",
    "        return True\n",
    "    return False\n",
    "is_palindrom(\"racecar\")\n",
    "\n",
    "#using loop \n"
   ]
  },
  {
   "cell_type": "markdown",
   "metadata": {},
   "source": [
    "#write a function to count the number of vowels in given string "
   ]
  },
  {
   "cell_type": "code",
   "execution_count": 61,
   "metadata": {},
   "outputs": [
    {
     "ename": "TypeError",
     "evalue": "'in <string>' requires string as left operand, not builtin_function_or_method",
     "output_type": "error",
     "traceback": [
      "\u001b[1;31m---------------------------------------------------------------------------\u001b[0m",
      "\u001b[1;31mTypeError\u001b[0m                                 Traceback (most recent call last)",
      "Cell \u001b[1;32mIn[61], line 11\u001b[0m\n\u001b[0;32m      9\u001b[0m \u001b[38;5;66;03m# Example usage\u001b[39;00m\n\u001b[0;32m     10\u001b[0m text \u001b[38;5;241m=\u001b[39m \u001b[38;5;124m\"\u001b[39m\u001b[38;5;124mHello World\u001b[39m\u001b[38;5;124m\"\u001b[39m\n\u001b[1;32m---> 11\u001b[0m \u001b[38;5;28mprint\u001b[39m(\u001b[38;5;124m\"\u001b[39m\u001b[38;5;124mNumber of vowels:\u001b[39m\u001b[38;5;124m\"\u001b[39m, \u001b[43mcount_vowels\u001b[49m\u001b[43m(\u001b[49m\u001b[43mtext\u001b[49m\u001b[43m)\u001b[49m)\n",
      "Cell \u001b[1;32mIn[61], line 5\u001b[0m, in \u001b[0;36mcount_vowels\u001b[1;34m(string)\u001b[0m\n\u001b[0;32m      3\u001b[0m count \u001b[38;5;241m=\u001b[39m \u001b[38;5;241m0\u001b[39m\n\u001b[0;32m      4\u001b[0m \u001b[38;5;28;01mfor\u001b[39;00m char \u001b[38;5;129;01min\u001b[39;00m string:\n\u001b[1;32m----> 5\u001b[0m     \u001b[38;5;28;01mif\u001b[39;00m \u001b[43mchar\u001b[49m\u001b[38;5;241;43m.\u001b[39;49m\u001b[43mlower\u001b[49m\u001b[43m \u001b[49m\u001b[38;5;129;43;01min\u001b[39;49;00m\u001b[43m \u001b[49m\u001b[43mvowels\u001b[49m:\n\u001b[0;32m      6\u001b[0m         count \u001b[38;5;241m+\u001b[39m\u001b[38;5;241m=\u001b[39m \u001b[38;5;241m1\u001b[39m\n\u001b[0;32m      7\u001b[0m \u001b[38;5;28;01mreturn\u001b[39;00m count\n",
      "\u001b[1;31mTypeError\u001b[0m: 'in <string>' requires string as left operand, not builtin_function_or_method"
     ]
    }
   ],
   "source": [
    "def count_vowels(string):\n",
    "    vowels = 'aeiou'\n",
    "    count = 0\n",
    "    for char in string:\n",
    "        if char.lower in vowels:\n",
    "            count += 1\n",
    "    return count\n",
    "\n",
    "# Example usage\n",
    "text = \"Hello World\"\n",
    "print(\"Number of vowels:\", count_vowels(text))\n"
   ]
  },
  {
   "cell_type": "code",
   "execution_count": null,
   "metadata": {},
   "outputs": [],
   "source": []
  }
 ],
 "metadata": {
  "kernelspec": {
   "display_name": "Python 3",
   "language": "python",
   "name": "python3"
  },
  "language_info": {
   "codemirror_mode": {
    "name": "ipython",
    "version": 3
   },
   "file_extension": ".py",
   "mimetype": "text/x-python",
   "name": "python",
   "nbconvert_exporter": "python",
   "pygments_lexer": "ipython3",
   "version": "3.12.7"
  }
 },
 "nbformat": 4,
 "nbformat_minor": 2
}
