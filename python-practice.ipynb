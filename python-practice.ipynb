{
 "cells": [
  {
   "cell_type": "markdown",
   "metadata": {},
   "source": [
    "# Questions\n",
    "- ### Write a function Swap two numbers without using a temporary variable\n",
    "\n",
    "- ### Write a function Determine if a string is a palindrome (palindrome is if we reverse it has same value)\n",
    "- ### Write a function to Count the number of vowels in a given string\n",
    "- ###  write a function Find the common elements between two lists\n",
    "- ###  write a function to Check if a given number is a perfect square\n",
    "- ###  write a function Count the occurrences of a specific character in a string\n",
    "- ###  Write a function to Find the second largest number in a list\n",
    "- ###  Write a function to remove duplicates from a list\n",
    "- ###  Write a function that prints the multiplication table of given number\n",
    "- ### Write a function Check if a number is prime"
   ]
  },
  {
   "cell_type": "markdown",
   "metadata": {},
   "source": [
    "# Write a function to swap two numbers without using a temporary variable"
   ]
  },
  {
   "cell_type": "code",
   "execution_count": 1,
   "metadata": {},
   "outputs": [
    {
     "name": "stdout",
     "output_type": "stream",
     "text": [
      "10 5\n",
      "10 5\n"
     ]
    }
   ],
   "source": [
    "def swap_numbers(a,b):\n",
    "    a = a+b\n",
    "    b = a-b\n",
    "    a = a-b\n",
    "    print(a,b)\n",
    "    return a,b\n",
    "\n",
    "a,b = swap_numbers(5,10)\n",
    "print(a,b)"
   ]
  },
  {
   "cell_type": "markdown",
   "metadata": {},
   "source": [
    "# Write a function Check if a number is prime"
   ]
  },
  {
   "cell_type": "code",
   "execution_count": 23,
   "metadata": {},
   "outputs": [
    {
     "name": "stdout",
     "output_type": "stream",
     "text": [
      "17 is prime: True\n"
     ]
    }
   ],
   "source": [
    "import math\n",
    "num = 17  \n",
    "is_prime = True\n",
    "if num < 2:\n",
    "    is_prime = False\n",
    "else:\n",
    "    for i in range(2, math.ceil(math.sqrt(num) )): \n",
    "        if num % i == 0:\n",
    "            is_prime = False\n",
    "            break\n",
    "print(num, \"is prime:\", is_prime)\n"
   ]
  },
  {
   "cell_type": "markdown",
   "metadata": {},
   "source": [
    "# Write a function Determine if a string is a palindrome (palindrome is if we reverse it has same value)"
   ]
  },
  {
   "cell_type": "code",
   "execution_count": 3,
   "metadata": {},
   "outputs": [
    {
     "name": "stdout",
     "output_type": "stream",
     "text": [
      "racecar racecar\n",
      "Input is palindrome\n",
      "is palindrome\n"
     ]
    }
   ],
   "source": [
    "input = \"racecar\"\n",
    "length = len(input)\n",
    "counter = length-1\n",
    "reversed = ''\n",
    "while counter>=0:\n",
    "    reversed += input[counter]\n",
    "    counter -= 1\n",
    "\n",
    "print(input,reversed)\n",
    "if reversed==input:\n",
    "    print('Input is palindrome')\n",
    "else:\n",
    "    print(\"Input is not palindrome\")\n",
    "\n",
    "\n",
    "# alternate method\n",
    "print('is palindrome') if input == input[::-1] else print('Is not palindrome')\n",
    "    \n",
    "\n"
   ]
  },
  {
   "cell_type": "markdown",
   "metadata": {},
   "source": [
    "# Write a function to Count the number of vowels in a given string"
   ]
  },
  {
   "cell_type": "code",
   "execution_count": 6,
   "metadata": {},
   "outputs": [
    {
     "name": "stdout",
     "output_type": "stream",
     "text": [
      "vowels e\n",
      "vowels o\n",
      "vowels o\n",
      "3\n"
     ]
    }
   ],
   "source": [
    "phrase = \"Hello world\"\n",
    "def count_vowels(phrase):\n",
    "    vowels = 'aeiou'\n",
    "    total_vowels = 0\n",
    "    for char in phrase:\n",
    "        if char.lower() in vowels:\n",
    "            print(f\"vowels {char}\")\n",
    "            total_vowels +=1\n",
    "\n",
    "    print(total_vowels)\n",
    "    return total_vowels\n"
   ]
  },
  {
   "cell_type": "markdown",
   "metadata": {},
   "source": [
    "# write a function Find the common elements between two lists"
   ]
  },
  {
   "cell_type": "code",
   "execution_count": 27,
   "metadata": {},
   "outputs": [
    {
     "name": "stdout",
     "output_type": "stream",
     "text": [
      "[3, 3, 4]\n"
     ]
    }
   ],
   "source": [
    "list1 = [1, 2, 3, 4]  \n",
    "list2 = [3,3, 4, 5, 6] \n",
    "\n",
    "common_list = []\n",
    "for item1 in list1:\n",
    "    for item2 in list2:\n",
    "        if item1==item2:\n",
    "            common_list.append(item1)\n",
    "\n",
    "print(common_list)"
   ]
  },
  {
   "cell_type": "markdown",
   "metadata": {},
   "source": [
    "# write a function to Check if a given number is a perfect square"
   ]
  },
  {
   "cell_type": "code",
   "execution_count": 5,
   "metadata": {},
   "outputs": [],
   "source": [
    "number = 16\n",
    "\n",
    "def check_perfect_square(number):\n",
    "    if(number==1):\n",
    "        return True\n",
    "    \n",
    "    is_perfect_square = False\n",
    "    for i in range(1,16/2):\n",
    "        if i*i ==number:\n",
    "            is_perfect_square = True\n",
    "            break\n",
    "    return is_perfect_square"
   ]
  },
  {
   "cell_type": "markdown",
   "metadata": {},
   "source": [
    "# write a function Count the occurrences of a specific character in a string"
   ]
  },
  {
   "cell_type": "code",
   "execution_count": 7,
   "metadata": {},
   "outputs": [],
   "source": [
    "fruit = 'banana'\n",
    "char_name = 'a'"
   ]
  },
  {
   "cell_type": "markdown",
   "metadata": {},
   "source": [
    "# Write a function to Find the second largest number in a list"
   ]
  },
  {
   "cell_type": "code",
   "execution_count": 31,
   "metadata": {},
   "outputs": [
    {
     "name": "stdout",
     "output_type": "stream",
     "text": [
      "100 4\n"
     ]
    }
   ],
   "source": [
    "numbers = [3, 5, 1, 2,100,  4] \n",
    "\n",
    "max_number = numbers[0]\n",
    "second_max_number  = numbers[0]\n",
    "\n",
    "for n in numbers:\n",
    "    if n > max_number:\n",
    "        max_number = n\n",
    "    elif n>second_max_number and n != max_number:\n",
    "        second_max_number = n\n",
    "\n",
    "\n",
    "print(max_number,second_max_number)\n"
   ]
  },
  {
   "cell_type": "markdown",
   "metadata": {},
   "source": [
    "# Write a function to remove duplicates from a list"
   ]
  },
  {
   "cell_type": "code",
   "execution_count": 32,
   "metadata": {},
   "outputs": [
    {
     "name": "stdout",
     "output_type": "stream",
     "text": [
      "[1, 2, 3, 4, 5]\n"
     ]
    }
   ],
   "source": [
    "numbers = [1, 2, 2, 3, 4, 4, 5]\n",
    "unique_numbers = []\n",
    "for n in numbers:\n",
    "    if n  not in unique_numbers:\n",
    "        unique_numbers.append(n)\n",
    "\n",
    "print(unique_numbers)"
   ]
  },
  {
   "cell_type": "markdown",
   "metadata": {},
   "source": [
    "# Write a function that prints the multiplication table of given number"
   ]
  },
  {
   "cell_type": "code",
   "execution_count": 10,
   "metadata": {},
   "outputs": [],
   "source": [
    "n = 5\n"
   ]
  }
 ],
 "metadata": {
  "kernelspec": {
   "display_name": "base",
   "language": "python",
   "name": "python3"
  },
  "language_info": {
   "codemirror_mode": {
    "name": "ipython",
    "version": 3
   },
   "file_extension": ".py",
   "mimetype": "text/x-python",
   "name": "python",
   "nbconvert_exporter": "python",
   "pygments_lexer": "ipython3",
   "version": "3.12.4"
  }
 },
 "nbformat": 4,
 "nbformat_minor": 2
}
